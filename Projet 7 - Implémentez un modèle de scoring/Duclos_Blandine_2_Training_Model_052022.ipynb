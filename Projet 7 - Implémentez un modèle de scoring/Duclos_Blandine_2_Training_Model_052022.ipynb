{
 "cells": [
  {
   "cell_type": "markdown",
   "id": "6911a335",
   "metadata": {},
   "source": [
    "# Enoncé\n",
    "## Contexte\n",
    "**Mon rôle** : data scientist\n",
    "\n",
    "**Commanditaire** : Prêt à dépenser\n",
    "\n",
    "**Activité de l'entreprise :** société financière qui propose des crédits à la consommation pour des personnes ayant peu ou pas du tout d'historique de prêt\n",
    "\n",
    "**Projet :** mettre en œuvre un outil de “scoring crédit”\n",
    "\n",
    "**Type de Mission :** classification binaire déséquilibrée\n",
    "\n",
    "## Attendus\n",
    "**But de la mission :** classifie la demande en crédit accordé ou refusé en s’appuyant sur des sources de données variées \n",
    "\n",
    "**Base de données :** https://www.kaggle.com/c/home-credit-default-risk/data (données comportementales, données provenant d'autres institutions financières, ...)\n",
    "\n",
    "**Etapes demandées :**\n",
    "1. Construire un modèle de scoring qui donnera une prédiction sur la probabilité de faillite d'un client de façon automatique.\n",
    "2. Construire un dashboard interactif à destination des gestionnaires de la relation client permettant d'interpréter les prédictions faites par le modèle, et d’améliorer la connaissance client des chargés de relation client.\n",
    "==> les clients sont de plus en plus demandeurs de transparence vis-à-vis des décisions d’octroi de crédit\n",
    "\n",
    "**Détails de la mission :** \n",
    "Le dashboard interactif devra contenir au minimum les fonctionnalités suivantes :\n",
    "- Permettre de visualiser le score et l’interprétation de ce score pour chaque client de façon intelligible pour une personne non experte en data science.\n",
    "- Permettre de visualiser des informations descriptives relatives à un client (via un système de filtre).\n",
    "- Permettre de comparer les informations descriptives relatives à un client à l’ensemble des clients ou à un groupe de clients similaires.\n",
    "\n",
    "**Livrables demandés :** \n",
    "- **Le dashboard interactif répondant aux spécifications ci-dessus et l’API de prédiction du score, déployées chacunes sur le cloud.**\n",
    "- Un dossier sur un outil de versioning de code contenant :\n",
    "    - Le code de la modélisation (du prétraitement à la prédiction)\n",
    "    - Le code générant le dashboard\n",
    "    - Le code permettant de déployer le modèle sous forme d'API\n",
    "- Une note méthodologique décrivant :\n",
    "    - La méthodologie d'entraînement du modèle (2 pages maximum)\n",
    "    - La fonction coût métier, l'algorithme d'optimisation et la métrique d'évaluation (1 page maximum)\n",
    "    - L’interprétabilité globale et locale du modèle (1 page maximum)\n",
    "    - Les limites et les améliorations possibles (1 page maximum)\n",
    "- Un support de présentation pour la soutenance, détaillant le travail réalisé."
   ]
  },
  {
   "cell_type": "markdown",
   "id": "95ee45fc",
   "metadata": {},
   "source": [
    "# Librairies et paramétrages\n",
    "## Mise à jour des librairies"
   ]
  },
  {
   "cell_type": "code",
   "execution_count": 1,
   "id": "6f133c2d",
   "metadata": {},
   "outputs": [
    {
     "data": {
      "text/plain": [
       "\"\\nimport re\\nimport pip\\nlistLib = !pip list --outdated --format freeze\\nlistLib = list(listLib)\\nlistLib = [re.sub('(\\\\=)+(.)+$', '', i) for i in listLib]\\npip.main(['install'] + listLib + ['--upgrade'] + ['--user'])\\n\""
      ]
     },
     "execution_count": 1,
     "metadata": {},
     "output_type": "execute_result"
    }
   ],
   "source": [
    "'''\n",
    "import re\n",
    "import pip\n",
    "listLib = !pip list --outdated --format freeze\n",
    "listLib = list(listLib)\n",
    "listLib = [re.sub('(\\=)+(.)+$', '', i) for i in listLib]\n",
    "pip.main(['install'] + listLib + ['--upgrade'] + ['--user'])\n",
    "'''"
   ]
  },
  {
   "cell_type": "markdown",
   "id": "1d5640e0",
   "metadata": {},
   "source": [
    "## Importations des librairies"
   ]
  },
  {
   "cell_type": "code",
   "execution_count": 2,
   "id": "073d06a5",
   "metadata": {
    "scrolled": true
   },
   "outputs": [
    {
     "data": {
      "text/plain": [
       "'\\n'"
      ]
     },
     "execution_count": 2,
     "metadata": {},
     "output_type": "execute_result"
    }
   ],
   "source": [
    "# Gestion des données\n",
    "import pandas as pd\n",
    "import numpy as np\n",
    "\n",
    "# Gestion des graphiques\n",
    "import matplotlib.pyplot as plt\n",
    "import seaborn as sns\n",
    "\n",
    "# Métrics\n",
    "from sklearn.metrics import roc_curve, auc, roc_auc_score, confusion_matrix\n",
    "from sklearn.metrics import fbeta_score, make_scorer\n",
    "\n",
    "# Modèles\n",
    "from sklearn.ensemble import RandomForestClassifier\n",
    "from sklearn.linear_model import LogisticRegression\n",
    "from xgboost import XGBClassifier\n",
    "import pickle \n",
    "import dill\n",
    "\n",
    "# Echantillonnage\n",
    "from imblearn.over_sampling import SMOTE\n",
    "from imblearn.under_sampling import RandomUnderSampler\n",
    "\n",
    "# Validation Croisée\n",
    "from sklearn.model_selection import train_test_split, StratifiedKFold, cross_validate, cross_val_predict\n",
    "from sklearn.model_selection import GridSearchCV, RandomizedSearchCV\n",
    "from skopt import BayesSearchCV\n",
    "from skopt.space import Real, Categorical, Integer\n",
    "\n",
    "# Transformation\n",
    "from sklearn.compose import make_column_transformer\n",
    "from sklearn.preprocessing import StandardScaler\n",
    "from sklearn.impute import SimpleImputer\n",
    "from imblearn.pipeline import make_pipeline\n",
    "\n",
    "# Interpretability\n",
    "from lime.lime_tabular import LimeTabularExplainer\n",
    "#import shap\n",
    "'''\n",
    "!pip install numpy==1.21 --user\n",
    "!pip install numba==0.55 --user\n",
    "!pip install llvmlite==0.38.0 --user\n",
    "!pip install shap --user\n",
    "import shap\n",
    "'''\n",
    "\n",
    "import math\n",
    "import ast\n",
    "import random\n",
    "\n",
    "\n",
    "# Système\n",
    "from copy import deepcopy\n",
    "import os\n",
    "import re\n",
    "import time\n",
    "import warnings\n",
    "warnings.filterwarnings(\"ignore\")\n",
    "'''\n",
    "'''"
   ]
  },
  {
   "cell_type": "markdown",
   "id": "4de89ba1",
   "metadata": {},
   "source": [
    "## Paramétrages"
   ]
  },
  {
   "cell_type": "code",
   "execution_count": 3,
   "id": "ed2cf89e",
   "metadata": {},
   "outputs": [],
   "source": [
    "# Format des résultats affichés\n",
    "pd.set_option('display.max_columns', None) # display.max_columns : contrôle le nombre de colonnes à imprimer (int ou None pour imprimer toutes les colonnes)\n",
    "pd.set_option('max_colwidth', None) # Vous pouvez augmenter la largeur en passant un int (ou mettre au max en passant None)\n",
    "pd.set_option(\"display.max_rows\", None) # Pour modifier le nombre de lignes, vous devez modifier l' option max_rows \n",
    "pd.options.display.float_format = '{:.4f}'.format # enlève le format d'affichage : nombre scientifique\n",
    "\n",
    "# Pour afficher les graphiques dans la continuité du code, et non pas dans une fenêtre à part:\n",
    "%matplotlib inline"
   ]
  },
  {
   "cell_type": "markdown",
   "id": "bd43e236",
   "metadata": {},
   "source": [
    "## Importation des données"
   ]
  },
  {
   "cell_type": "code",
   "execution_count": 4,
   "id": "c3050dbe",
   "metadata": {},
   "outputs": [
    {
     "name": "stdout",
     "output_type": "stream",
     "text": [
      "Téléchargement du fichier...\n"
     ]
    }
   ],
   "source": [
    "print(\"Téléchargement du fichier...\")\n",
    "df = pd.read_csv('data_train.csv')"
   ]
  },
  {
   "cell_type": "code",
   "execution_count": 5,
   "id": "e60ef3db",
   "metadata": {},
   "outputs": [
    {
     "name": "stdout",
     "output_type": "stream",
     "text": [
      "Fichier de 307507 lignes et 760 colonnes.\n"
     ]
    }
   ],
   "source": [
    "print(\"Fichier de {:,} lignes et {} colonnes.\".format(df.shape[0], df.shape[1]).replace(',',''))"
   ]
  },
  {
   "cell_type": "code",
   "execution_count": 6,
   "id": "937dce02",
   "metadata": {},
   "outputs": [
    {
     "data": {
      "image/png": "[encoded data removed]",
      "text/plain": [
       "<Figure size 432x288 with 1 Axes>"
      ]
     },
     "metadata": {},
     "output_type": "display_data"
    }
   ],
   "source": [
    "df['TARGET'].value_counts(normalize = True).plot(kind = 'pie', autopct = '%1.f%%', label = '')\n",
    "plt.axis('equal') # Cette ligne assure que le pie chart est un cercle plutôt qu'une éllipse\n",
    "plt.title('Répartition des classes')\n",
    "plt.show();"
   ]
  },
  {
   "cell_type": "markdown",
   "id": "55c6d726",
   "metadata": {},
   "source": [
    "Comme vue précédemment, les classes sont déséquilibrées."
   ]
  },
  {
   "cell_type": "markdown",
   "id": "6d735375",
   "metadata": {},
   "source": [
    "# Modélisation\n",
    "## Test des modèles basiques"
   ]
  },
  {
   "cell_type": "code",
   "execution_count": 7,
   "id": "01b062f0",
   "metadata": {},
   "outputs": [],
   "source": [
    "def get_model(xtrain, ytrain, pipeline, cv, df_res = np.nan):\n",
    "    \n",
    "    ### Gestion de l'appel du modèle ###  \n",
    "    time1 = time.time()\n",
    "    listScore = ['roc_auc']\n",
    "    \n",
    "    cross_score = cross_validate(pipeline\n",
    "                                 , xtrain\n",
    "                                 , ytrain\n",
    "                                 , scoring = listScore\n",
    "                                 , cv = cv\n",
    "                                 , n_jobs = -1\n",
    "                                 , return_train_score = True\n",
    "                                 )\n",
    "    \n",
    "    ### Ajout des résultats au dataframe ###\n",
    "    dict_append = {'Modèle':pipeline.steps[-1][0]\n",
    "                   ,'UnderSample':under\n",
    "                   ,'OverSample':over}\n",
    "    for score in listScore:\n",
    "        dict_append['train_'+score] = round(np.mean(cross_score['train_'+score]),4)\n",
    "        dict_append['test_'+score] = round(np.mean(cross_score['test_'+score]),4)\n",
    "    \n",
    "    dict_append['Time'] = time.time() - time1\n",
    "    \n",
    "    df_res = pd.concat([df_res,pd.DataFrame([dict_append])], ignore_index = False).reset_index(drop = True)\n",
    "    \n",
    "    ### Affichage de la courbe AUC ###\n",
    "    mean_tpr = 0.0\n",
    "    mean_fpr = np.linspace(0, 1, 100)\n",
    "    all_tpr = []\n",
    "\n",
    "    i = 0\n",
    "    for train, test in cv.split(xtrain,ytrain):\n",
    "        i += 1\n",
    "        probas_ = pipeline.fit(xtrain.iloc[train], ytrain.iloc[train]).predict_proba(xtrain.iloc[test])\n",
    "        # Compute ROC curve and area the curve\n",
    "        fpr, tpr, thresholds = roc_curve(ytrain.iloc[test], probas_[:, 1])\n",
    "        mean_tpr += np.interp(mean_fpr, fpr, tpr)\n",
    "        mean_tpr[0] = 0.0\n",
    "        roc_auc = auc(fpr, tpr)\n",
    "        plt.plot(fpr, tpr, lw = 1, label = 'ROC fold %d (area = %0.2f)' % (i, roc_auc))\n",
    "\n",
    "    plt.plot([0, 1], [0, 1], '--', color = (0.6, 0.6, 0.6), label = 'Luck')\n",
    "\n",
    "    mean_tpr /= cv.get_n_splits(xtrain, ytrain)\n",
    "    mean_tpr[-1] = 1.0\n",
    "    mean_auc = auc(mean_fpr, mean_tpr)\n",
    "    plt.plot(mean_fpr, mean_tpr, 'k--',\n",
    "            label='Mean ROC (area = %0.2f)' % mean_auc, lw = 2)\n",
    "    \n",
    "    plt.xlim([-0.05, 1.05])\n",
    "    plt.ylim([-0.05, 1.05])\n",
    "    \n",
    "    # axis labels\n",
    "    plt.xlabel('False Positive Rate')\n",
    "    plt.ylabel('True Positive Rate')\n",
    "    \n",
    "    # show the legend\n",
    "    plt.legend()\n",
    "    \n",
    "    plt.show();\n",
    "    \n",
    "    return df_res"
   ]
  },
  {
   "cell_type": "code",
   "execution_count": 8,
   "id": "d421f05b",
   "metadata": {},
   "outputs": [],
   "source": [
    "def matrix_model(pipeline, xtrain, ytrain, xtest, ytest, threshold = \"none\"):\n",
    "    \n",
    "    pipeline.fit(xtrain, ytrain)\n",
    "    if threshold == \"none\":\n",
    "        ypred = pipeline.predict(xtest)\n",
    "        print(\"Matrice de confusion (avec méthode predict)\")\n",
    "    else:\n",
    "        ypred = (pipeline.predict_proba(xtest)[:,1] >= threshold).astype(bool)\n",
    "        print(\"Matrice de confusion (avec méthode predict_proba + threshold optimisé)\")\n",
    "    \n",
    "    # matrice de confusion\n",
    "    matrix = confusion_matrix(ytest, ypred)\n",
    "    group_names = ['True Neg','False Pos','False Neg','True Pos']\n",
    "    group_counts = [\"{0:0.0f}\".format(value) for value in matrix.flatten()]\n",
    "    labels = [f\"{v1}\\n{v2}\" for v1, v2 in zip(group_names,group_counts)]\n",
    "    labels = np.asarray(labels).reshape(2,2)\n",
    "    ax = sns.heatmap(matrix, annot = labels, fmt = \"\", cmap = 'Blues')\n",
    "    ax.set_title('Confusion Matrix\\n\\n')\n",
    "    ax.set_xlabel('\\nPredicted Values')\n",
    "    ax.set_ylabel('Actual Values')\n",
    "    plt.show();\n",
    "    \n",
    "    df_matrix = pd.DataFrame(matrix\n",
    "                          , index = ['0', '1']\n",
    "                          , columns = ['0', '1']\n",
    "                         )\n",
    "    falsePos = int(df_matrix.loc[df_matrix.index == '0','1'].values)\n",
    "    falseNeg = int(df_matrix.loc[df_matrix.index == '1','0'].values)\n",
    "    print(f\"{falseNeg + falsePos} clients ont été incorrectement classé :\")\n",
    "    print(f\"- {falsePos} clients \\033[1m sans défaut de paiement \\033[0m ont été prédit en \\033[1m insolvable \\033[0m\")\n",
    "    print(f\"- {falseNeg} clients \\033[1m en défaut de paiement \\033[0m ont été prédit en \\033[1m solvable \\033[0m\")\n",
    "    \n",
    "    #print(matrix)"
   ]
  },
  {
   "cell_type": "code",
   "execution_count": 9,
   "id": "0c7f9b19",
   "metadata": {},
   "outputs": [
    {
     "data": {
      "image/png": "[encoded data removed]",
      "text/plain": [
       "<Figure size 432x288 with 1 Axes>"
      ]
     },
     "metadata": {},
     "output_type": "display_data"
    }
   ],
   "source": [
    "listVarX = df.columns.to_list()\n",
    "listVarX = [x for x in listVarX if x not in ['TARGET','SK_ID_CURR']]\n",
    "\n",
    "X = df[listVarX].copy()\n",
    "y = df['TARGET'].astype(int).copy()\n",
    "\n",
    "xtrain_all, xtest, ytrain_all, ytest = train_test_split(X\n",
    "                                                        , y\n",
    "                                                        , train_size = .8\n",
    "                                                        , random_state = 0\n",
    "                                                        , shuffle = True\n",
    "                                                        , stratify = y)\n",
    "\n",
    "xtrain, xvalid, ytrain, yvalid = train_test_split(xtrain_all\n",
    "                                                  , ytrain_all\n",
    "                                                  , train_size = .8\n",
    "                                                  , random_state = 0\n",
    "                                                  , shuffle = True\n",
    "                                                  , stratify = ytrain_all)\n",
    "\n",
    "x = [xtrain.shape[0], xvalid.shape[0], xtest.shape[0]]\n",
    "plt.pie(x, labels = ['train_set', 'validation_set', 'test_set'], normalize = True, autopct = '%1.f%%')\n",
    "plt.show();"
   ]
  },
  {
   "cell_type": "code",
   "execution_count": 10,
   "id": "806c1d5e",
   "metadata": {},
   "outputs": [],
   "source": [
    "listVarCat = []\n",
    "for var in listVarX:\n",
    "    if (xtrain[var].nunique() == 2) & (not var.endswith(('MIN','MAX','MEAN','VAR','SUM'))):\n",
    "        listVarCat.append(var)\n",
    "listVarNum = [x for x in listVarX if x not in listVarCat]\n",
    "#del listVarCat"
   ]
  },
  {
   "cell_type": "code",
   "execution_count": 11,
   "id": "d146ccf0",
   "metadata": {},
   "outputs": [],
   "source": [
    "cv = StratifiedKFold(n_splits = 3)\n",
    "\n",
    "numerical_pipeline = make_pipeline(StandardScaler()\n",
    "                                   , SimpleImputer(missing_values = np.nan, strategy = 'mean'))\n",
    "preprocessor = make_column_transformer((numerical_pipeline, listVarNum)\n",
    "                                       , remainder = 'passthrough')\n",
    "del numerical_pipeline\n",
    "\n",
    "over = SMOTE()\n",
    "under = RandomUnderSampler()\n",
    "\n",
    "df_resultats = pd.DataFrame(columns = ['Modèle','UnderSample','OverSample'])"
   ]
  },
  {
   "cell_type": "markdown",
   "id": "d567ac9e",
   "metadata": {},
   "source": [
    "### Forêts"
   ]
  },
  {
   "cell_type": "code",
   "execution_count": 12,
   "id": "6890dbda",
   "metadata": {},
   "outputs": [],
   "source": [
    "rfc = RandomForestClassifier(class_weight = 'balanced')\n",
    "pipeline_rfc = make_pipeline(preprocessor, over, under, rfc)"
   ]
  },
  {
   "cell_type": "code",
   "execution_count": null,
   "id": "707a5cc9",
   "metadata": {
    "scrolled": false
   },
   "outputs": [],
   "source": [
    "df_resultats = get_model(xtrain, ytrain, pipeline_rfc, cv, df_resultats)\n",
    "df_resultats"
   ]
  },
  {
   "cell_type": "code",
   "execution_count": null,
   "id": "cde08f44",
   "metadata": {},
   "outputs": [],
   "source": [
    "matrix_model(pipeline_rfc, xtrain, ytrain, xvalid, yvalid)"
   ]
  },
  {
   "cell_type": "markdown",
   "id": "6816f22b",
   "metadata": {},
   "source": [
    "### Régression logistique"
   ]
  },
  {
   "cell_type": "code",
   "execution_count": null,
   "id": "72d74f22",
   "metadata": {},
   "outputs": [],
   "source": [
    "rl = LogisticRegression(class_weight = \"balanced\")\n",
    "pipeline_rl = make_pipeline(preprocessor, over, under, rl)"
   ]
  },
  {
   "cell_type": "code",
   "execution_count": null,
   "id": "9b6b0848",
   "metadata": {
    "scrolled": false
   },
   "outputs": [],
   "source": [
    "df_resultats = get_model(xtrain, ytrain, pipeline_rl, cv, df_resultats)\n",
    "df_resultats"
   ]
  },
  {
   "cell_type": "code",
   "execution_count": null,
   "id": "5e2dd4dc",
   "metadata": {},
   "outputs": [],
   "source": [
    "matrix_model(pipeline_rl, xtrain, ytrain, xvalid, yvalid)"
   ]
  },
  {
   "cell_type": "markdown",
   "id": "f9c705ae",
   "metadata": {},
   "source": [
    "### Ensemble Boosting"
   ]
  },
  {
   "cell_type": "code",
   "execution_count": null,
   "id": "9e9e2f19",
   "metadata": {},
   "outputs": [],
   "source": [
    "spw = round(float(ytrain[ytrain == 1].shape[0] / ytrain[ytrain == 0].shape[0]),4)\n",
    "xgb = XGBClassifier(scale_pos_weight = spw)\n",
    "pipeline_xgb = make_pipeline(preprocessor, over, under, xgb)"
   ]
  },
  {
   "cell_type": "code",
   "execution_count": null,
   "id": "6043e1fe",
   "metadata": {
    "scrolled": false
   },
   "outputs": [],
   "source": [
    "df_resultats = get_model(xtrain, ytrain, pipeline_xgb, cv, df_resultats)\n",
    "df_resultats"
   ]
  },
  {
   "cell_type": "code",
   "execution_count": null,
   "id": "e17a131e",
   "metadata": {},
   "outputs": [],
   "source": [
    "matrix_model(pipeline_xgb, xtrain, ytrain, xvalid, yvalid)"
   ]
  },
  {
   "cell_type": "markdown",
   "id": "5e653d1d",
   "metadata": {},
   "source": [
    "Le meilleur modèle à l'air d'être, pour l'instant, la **régression logistique**, puisque c'est le seul modèle qui *n'overfit pas* et qui *minimise les faux négatifs*."
   ]
  },
  {
   "cell_type": "markdown",
   "id": "6155239f",
   "metadata": {},
   "source": [
    "## Optimisation (modèle + seuil)"
   ]
  },
  {
   "cell_type": "code",
   "execution_count": null,
   "id": "9551aff8",
   "metadata": {},
   "outputs": [],
   "source": [
    "def opti_model(pipeline, x, y, df_res, params, cv, score = 'roc_auc'):\n",
    "    \n",
    "    xtrain, xvalid, ytrain, yvalid = train_test_split(x\n",
    "                                                      , y\n",
    "                                                      , train_size = .5\n",
    "                                                      , random_state = 0\n",
    "                                                      , shuffle = True\n",
    "                                                      , stratify = y)\n",
    "                            \n",
    "    print('--- Grid Search CV ---')\n",
    "    if not isinstance(params, dict):\n",
    "        mean_best_test_score = 0\n",
    "        for idx in np.arange(0,len(pipeline)):\n",
    "            grid_search = BayesSearchCV(pipeline[idx]\n",
    "                                        , params[idx]\n",
    "                                        , n_iter = 32\n",
    "                                        , cv = cv\n",
    "                                        , scoring = score\n",
    "                                        , n_jobs = -1\n",
    "                                        , return_train_score = True\n",
    "                                        , error_score = 0\n",
    "                                      ) \n",
    "            grid_search.fit(xtrain, ytrain)\n",
    "\n",
    "            if grid_search.cv_results_['mean_test_score'][grid_search.best_index_] > mean_best_test_score:\n",
    "                # best score\n",
    "                mean_best_train_score = grid_search.cv_results_['mean_train_score'][grid_search.best_index_]\n",
    "                mean_best_test_score = grid_search.cv_results_['mean_test_score'][grid_search.best_index_]\n",
    "\n",
    "                # best parameters\n",
    "                dictParams = dict(grid_search.best_params_)\n",
    "                \n",
    "                #best pipeline\n",
    "                best_pipeline = pipeline[idx].set_params(**dictParams)\n",
    "                \n",
    "    else:\n",
    "        grid_search = BayesSearchCV(pipeline\n",
    "                                    , params\n",
    "                                    , n_iter = 32\n",
    "                                    , cv = cv\n",
    "                                    , scoring = score\n",
    "                                    , n_jobs = -1\n",
    "                                    , return_train_score = True\n",
    "                                    , error_score = 0\n",
    "                                  ) \n",
    "        grid_search.fit(xtrain, ytrain)\n",
    "\n",
    "        # best parameters\n",
    "        dictParams = dict(grid_search.best_params_)\n",
    "        print()\n",
    "\n",
    "        # best score\n",
    "        mean_best_train_score = grid_search.cv_results_['mean_train_score'][grid_search.best_index_]\n",
    "        mean_best_test_score = grid_search.cv_results_['mean_test_score'][grid_search.best_index_]\n",
    "        \n",
    "        # best pipeline\n",
    "        best_pipeline = pipeline.set_params(**dictParams)\n",
    "        \n",
    "    print('Mean cross-validated score of best params')\n",
    "    print('for train score :',mean_best_train_score)\n",
    "    print('for test score :',mean_best_test_score) \n",
    "    print()\n",
    "    print('Best params :',dictParams)\n",
    "    \n",
    "    \n",
    "    print()\n",
    "    print()\n",
    "    print('--- Optimisation du seuil ---')\n",
    "    best_pipeline.fit(xtrain,ytrain)\n",
    "    y_proba = best_pipeline.predict_proba(xvalid)\n",
    "    # keep probabilities for the positive outcome only\n",
    "    probs = y_proba[:, 1]\n",
    "    # define thresholds\n",
    "    thresholds = np.arange(0, 1, 0.1)\n",
    "    # evaluate each threshold\n",
    "    if score == 'roc_auc':\n",
    "        scores = [roc_auc_score(yvalid, (probs >= t).astype('int')) for t in thresholds]\n",
    "    else:\n",
    "        temp = str(score).replace('make_scorer(','').replace(')','')\n",
    "        name_func = temp[:temp.index(\",\")]\n",
    "        params_func = temp[temp.index(\",\"):].replace(', ','')\n",
    "        name_param = params_func[:params_func.index(\"=\")]\n",
    "        value_param = params_func[params_func.index(\"=\"):].replace('=','')\n",
    "        dict_param = {'y_true':yvalid, 'y_pred': None, name_param:int(value_param)}\n",
    "        scores = []\n",
    "        for t in thresholds:\n",
    "            dict_param['y_pred'] = (probs >= t).astype('int')\n",
    "            scores.append(globals()[name_func](**dict_param))\n",
    "    \n",
    "    # get best threshold\n",
    "    ix = np.argmax(scores)\n",
    "    print('Threshold=%.3f, Score=%.5f' % (thresholds[ix], scores[ix]))\n",
    "    \n",
    "    # print in df\n",
    "    name_prefixe = 'OPTI_'\n",
    "    if score == 'roc_auc':\n",
    "        name_prefixe = name_prefixe + 'ROC_AUC'\n",
    "    else:\n",
    "        name_prefixe = name_prefixe + 'FBETA_SCORE'\n",
    "    df_res.loc[df_res['Modèle'] == best_pipeline.steps[-1][0], name_prefixe+'_TRAIN_SCORE'] = mean_best_train_score\n",
    "    df_res.loc[df_res['Modèle'] == best_pipeline.steps[-1][0], name_prefixe+'_TEST_SCORE'] = mean_best_test_score\n",
    "    df_res.loc[df_res['Modèle'] == best_pipeline.steps[-1][0], name_prefixe+'_BEST_PARAMS'] = str(dictParams)\n",
    "    df_res.loc[df_res['Modèle'] == best_pipeline.steps[-1][0], name_prefixe+'_SEUIL'] = thresholds[ix]\n",
    "    df_res.loc[df_res['Modèle'] == best_pipeline.steps[-1][0], name_prefixe+'_SEUIL_TEST_SCORE'] = scores[ix]\n",
    "    \n",
    "    return df_res, best_pipeline"
   ]
  },
  {
   "cell_type": "code",
   "execution_count": null,
   "id": "bc792dd2",
   "metadata": {},
   "outputs": [],
   "source": [
    "params = {'smote__sampling_strategy':Real(.1, .3) # default=’auto’\n",
    "          , 'smote__k_neighbors':Integer(5,150) # default=5\n",
    "          , 'randomundersampler__sampling_strategy':Real(.4, .7) # default=’auto’\n",
    "         }"
   ]
  },
  {
   "cell_type": "markdown",
   "id": "aa2ace88",
   "metadata": {},
   "source": [
    "### Forêts"
   ]
  },
  {
   "cell_type": "code",
   "execution_count": null,
   "id": "a037c0f5",
   "metadata": {
    "scrolled": false
   },
   "outputs": [],
   "source": [
    "params_rfc = params.copy()\n",
    "params_rfc['randomforestclassifier__criterion'] = Categorical(['gini', 'entropy']) # default=”gini”\n",
    "params_rfc['randomforestclassifier__n_estimators'] = Integer(100, 350) # default=100\n",
    "params_rfc['randomforestclassifier__max_features'] = Categorical(['auto', 'sqrt','log2']) # default=”sqrt”\n",
    "params_rfc['randomforestclassifier__max_depth'] = Integer(2, 50) # default=None\n",
    "params_rfc['randomforestclassifier__min_samples_split'] = Integer(15, 30) # default=2\n",
    "params_rfc['randomforestclassifier__min_samples_leaf'] = Integer(25, 35) # default=1\n",
    "df_resultats, pipeline_rfc_best = opti_model(pipeline_rfc, xtrain, ytrain, df_resultats, params_rfc, cv, 'roc_auc')\n",
    "df_resultats.loc[df_resultats['Modèle'] == 'randomforestclassifier',:]"
   ]
  },
  {
   "cell_type": "code",
   "execution_count": null,
   "id": "a534993a",
   "metadata": {},
   "outputs": [],
   "source": [
    "matrix_model(pipeline_rfc_best, xtrain, ytrain, xvalid, yvalid)"
   ]
  },
  {
   "cell_type": "markdown",
   "id": "37f98707",
   "metadata": {},
   "source": [
    "### Régression logistique"
   ]
  },
  {
   "cell_type": "code",
   "execution_count": null,
   "id": "b43768ec",
   "metadata": {},
   "outputs": [],
   "source": [
    "pipeline_rl_1 = deepcopy(pipeline_rl)\n",
    "pipeline_rl_1.set_params(logisticregression__penalty = \"l1\")\n",
    "params_rl1 = params.copy()\n",
    "params_rl1['logisticregression__C'] = Real(1, 10, 'log-uniform') # default=1.0\n",
    "params_rl1['logisticregression__fit_intercept'] = Categorical([True, False]) # default=True\n",
    "params_rl1['logisticregression__solver'] = Categorical(['liblinear', 'saga']) # default=’lbfgs’"
   ]
  },
  {
   "cell_type": "code",
   "execution_count": null,
   "id": "578d1958",
   "metadata": {},
   "outputs": [],
   "source": [
    "pipeline_rl_2 = deepcopy(pipeline_rl)\n",
    "pipeline_rl_2.set_params(logisticregression__penalty = \"l2\")\n",
    "params_rl2 = params.copy()\n",
    "params_rl2['logisticregression__C'] = Real(1, 10, 'log-uniform') # default=1.0\n",
    "params_rl2['logisticregression__fit_intercept'] = Categorical([True, False]) # default=True\n",
    "params_rl2['logisticregression__solver'] = Categorical(['lbfgs', 'newton-cg', 'liblinear', 'sag', 'saga']) # default=’lbfgs’"
   ]
  },
  {
   "cell_type": "code",
   "execution_count": null,
   "id": "1d4062da",
   "metadata": {},
   "outputs": [],
   "source": [
    "pipeline_rl_3 = deepcopy(pipeline_rl)\n",
    "pipeline_rl_3.set_params(logisticregression__penalty = \"elasticnet\", logisticregression__solver = 'saga')\n",
    "params_rl3 = params.copy()\n",
    "params_rl3['logisticregression__C'] = Real(1, 10, 'log-uniform') # default=1.0\n",
    "params_rl3['logisticregression__fit_intercept'] = Categorical([True, False]) # default=True\n",
    "params_rl3['logisticregression__l1_ratio'] = Real(.1, .9, 'log-uniform') # default=None"
   ]
  },
  {
   "cell_type": "code",
   "execution_count": null,
   "id": "012293a4",
   "metadata": {},
   "outputs": [],
   "source": [
    "pipeline_rl_4 = deepcopy(pipeline_rl)\n",
    "pipeline_rl_4.set_params(logisticregression__penalty = \"none\")\n",
    "params_rl4 = params.copy()\n",
    "params_rl4['logisticregression__C'] = Real(1, 10, 'log-uniform') # default=1.0\n",
    "params_rl4['logisticregression__fit_intercept'] = Categorical([True, False]) # default=True\n",
    "params_rl4['logisticregression__solver'] = Categorical(['lbfgs', 'newton-cg', 'sag', 'saga']) # default=’lbfgs’"
   ]
  },
  {
   "cell_type": "code",
   "execution_count": null,
   "id": "15860b54",
   "metadata": {},
   "outputs": [],
   "source": [
    "list_pipeline_rl = [pipeline_rl_1, pipeline_rl_2, pipeline_rl_3, pipeline_rl_4]\n",
    "params_rl = [params_rl1, params_rl2, params_rl3, params_rl4]"
   ]
  },
  {
   "cell_type": "code",
   "execution_count": null,
   "id": "1e6190ff",
   "metadata": {},
   "outputs": [],
   "source": [
    "df_resultats, pipeline_rl_best = opti_model(list_pipeline_rl, xtrain, ytrain, df_resultats, params_rl, cv, 'roc_auc')\n",
    "df_resultats.loc[df_resultats['Modèle'] == 'logisticregression',:]"
   ]
  },
  {
   "cell_type": "code",
   "execution_count": null,
   "id": "d7c081e6",
   "metadata": {},
   "outputs": [],
   "source": [
    "matrix_model(pipeline_rl_best, xtrain, ytrain, xvalid, yvalid)"
   ]
  },
  {
   "cell_type": "markdown",
   "id": "818afffa",
   "metadata": {},
   "source": [
    "### Ensemble Boosting"
   ]
  },
  {
   "cell_type": "code",
   "execution_count": null,
   "id": "68959312",
   "metadata": {
    "scrolled": false
   },
   "outputs": [],
   "source": [
    "params_xgb = params.copy()\n",
    "params_xgb['xgbclassifier__n_estimators'] = Integer(60,220) # default = 100\n",
    "params_xgb['xgbclassifier__learning_rate'] = Real(.1, 1, 'log-uniform') # default None\n",
    "params_xgb['xgbclassifier__max_depth'] = Integer(2, 50) # default None\n",
    "df_resultats, pipeline_xgb_best = opti_model(pipeline_xgb, xtrain, ytrain, df_resultats, params_xgb, cv, 'roc_auc')\n",
    "df_resultats.loc[df_resultats['Modèle'] == 'xgbclassifier',:]"
   ]
  },
  {
   "cell_type": "code",
   "execution_count": null,
   "id": "8cde056d",
   "metadata": {},
   "outputs": [],
   "source": [
    "matrix_model(pipeline_xgb_best, xtrain, ytrain, xvalid, yvalid)"
   ]
  },
  {
   "cell_type": "markdown",
   "id": "bf000439",
   "metadata": {},
   "source": [
    "## Adaptation du modèle à la nouvelle fonction de coût (métier)\n",
    "\n",
    "Il est attendu de mettre en œuvre une approche simple qui consiste, une fois le modèle choisi et les hyperparamètres optimisés finement d’un point de vue technique via l’AUC (CF étape précédente), de calculer une fonction de coût métier de type 10*FN + FP (où FN = nombre de FN dans la matrice de confusion pour un seuil donné, FP = nombre de FP) et de trouver son minimum pour un seuil donné.\n",
    "Une possibilité de fonction métier adaptée au projet est la fonction fbeta_score de sklearn, qui permet d’attribuer plus de poids à la minimisation des FN à travers la pondération du paramètre beta.\n",
    "Il est recommandé d’effectuer une nouvelle recherche des hyper-paramètres se basant sur la fonction métier proposée, de cette façon, ils seront choisis de sorte à minimiser la perte pour l’entreprise.\n",
    "D’autres approches plus complexes seraient de remonter cette mesure de calcul de coût métier (avec optimisation du seuil) dans la simulation fine du modèle final choisi, voire pour tous les modèles (cette mesure remplacerait l’AUC)."
   ]
  },
  {
   "cell_type": "markdown",
   "id": "e2b2c30b",
   "metadata": {},
   "source": [
    "F-measure fournit un score unique qui résume la précision et le rappel.\n",
    "Fbeta-measure fournit une version configurable (beta) de la F-measure pour accorder plus ou moins d'attention à la mesure de précision et de rappel lors du calcul d'un seul score.\n",
    "\n",
    "Une valeur bêta par défaut est 1. Une valeur bêta plus petite, telle que 0.5, donne plus de poids à la précision et moins au rappel, tandis qu'une valeur bêta plus grande, telle que 2, donne moins de poids à la précision et plus de poids au rappel dans le calcul du score. Le but ici est de minimiser les faux négatifs (étant donné que la maximisation du rappel minimisera les erreurs de faux négatifs), il faut donc donner plus de poids au rappel et ainsi donner un paramètre beta > 1.\n",
    "\n",
    "Source : https://machinelearningmastery.com/fbeta-measure-for-machine-learning/"
   ]
  },
  {
   "cell_type": "code",
   "execution_count": null,
   "id": "6588756b",
   "metadata": {},
   "outputs": [],
   "source": [
    "ftwo_scorer = make_scorer(fbeta_score, beta = 2)"
   ]
  },
  {
   "cell_type": "markdown",
   "id": "8579ace3",
   "metadata": {},
   "source": [
    "### Fôrets"
   ]
  },
  {
   "cell_type": "code",
   "execution_count": null,
   "id": "77d66cd5",
   "metadata": {
    "scrolled": false
   },
   "outputs": [],
   "source": [
    "df_resultats, pipeline_rfc_best = opti_model(pipeline_rfc, xtrain, ytrain, df_resultats, params_rfc, cv, ftwo_scorer)\n",
    "df_resultats.loc[df_resultats['Modèle'] == 'randomforestclassifier',:]"
   ]
  },
  {
   "cell_type": "code",
   "execution_count": null,
   "id": "0b40bf71",
   "metadata": {},
   "outputs": [],
   "source": [
    "matrix_model(pipeline_rfc_best, xtrain, ytrain, xvalid, yvalid)"
   ]
  },
  {
   "cell_type": "markdown",
   "id": "eef9ee57",
   "metadata": {},
   "source": [
    "### Régression logistique"
   ]
  },
  {
   "cell_type": "code",
   "execution_count": null,
   "id": "fb577cd3",
   "metadata": {
    "scrolled": false
   },
   "outputs": [],
   "source": [
    "df_resultats, pipeline_rl_best = opti_model(list_pipeline_rl, xtrain, ytrain, df_resultats, params_rl, cv, ftwo_scorer)\n",
    "df_resultats.loc[df_resultats['Modèle'] == 'logisticregression',:]"
   ]
  },
  {
   "cell_type": "code",
   "execution_count": null,
   "id": "635caefc",
   "metadata": {},
   "outputs": [],
   "source": [
    "matrix_model(pipeline_rl_best, xtrain, ytrain, xvalid, yvalid)"
   ]
  },
  {
   "cell_type": "markdown",
   "id": "817bc750",
   "metadata": {},
   "source": [
    "### Ensemble Boosting"
   ]
  },
  {
   "cell_type": "code",
   "execution_count": null,
   "id": "d181980d",
   "metadata": {
    "scrolled": false
   },
   "outputs": [],
   "source": [
    "df_resultats, pipeline_xgb_best = opti_model(pipeline_xgb, xtrain, ytrain, df_resultats, params_xgb, cv, ftwo_scorer)\n",
    "df_resultats.loc[df_resultats['Modèle'] == 'xgbclassifier',:]"
   ]
  },
  {
   "cell_type": "code",
   "execution_count": null,
   "id": "640b20ba",
   "metadata": {},
   "outputs": [],
   "source": [
    "matrix_model(pipeline_xgb_best, xtrain, ytrain, xvalid, yvalid)"
   ]
  },
  {
   "cell_type": "code",
   "execution_count": null,
   "id": "75c83858",
   "metadata": {},
   "outputs": [],
   "source": [
    "df_resultats"
   ]
  },
  {
   "cell_type": "code",
   "execution_count": null,
   "id": "89c4413e",
   "metadata": {},
   "outputs": [],
   "source": [
    "pipeline_best = pipeline_rl_best\n",
    "threshold_best = .5"
   ]
  },
  {
   "cell_type": "markdown",
   "id": "49078207",
   "metadata": {},
   "source": [
    "## Interprétation du modèle\n",
    "### Globale explanation : Features importances"
   ]
  },
  {
   "cell_type": "code",
   "execution_count": null,
   "id": "519cda13",
   "metadata": {},
   "outputs": [],
   "source": [
    "# entrainement du meilleur modèle sur toute la partie train (train + valid)\n",
    "pipeline_best = pipeline_best.fit(xtrain_all,ytrain_all)"
   ]
  },
  {
   "cell_type": "code",
   "execution_count": null,
   "id": "af43f691",
   "metadata": {},
   "outputs": [],
   "source": [
    "# prediction sur la partie test\n",
    "yprob = pipeline_best.predict_proba(xtest)[:, 1]\n",
    "ypred = (yprob >= threshold_best).astype('int')\n",
    "# score vie réelle\n",
    "print('--- Scores vie réelle ---')\n",
    "print('Score fbeta :',round(fbeta_score(ytest, ypred, beta = 2),2))\n",
    "print('Score roc auc :',round(roc_auc_score(ytest, ypred),2))"
   ]
  },
  {
   "cell_type": "code",
   "execution_count": null,
   "id": "7f9a3a2d",
   "metadata": {},
   "outputs": [],
   "source": [
    "def get_importance(pipeline, type_func = 'feature_importance'):\n",
    "    if type_func == 'feature_importance':\n",
    "        # RandomForestClassifier OU XGB\n",
    "        importance = pipeline.steps[-1][1].feature_importances_\n",
    "    elif type_func == 'coef':\n",
    "        # LogisticRegression\n",
    "        importance = pipeline.steps[-1][1].coef_[0] # [0]: valeur absolu pour filtrer sur les plus importantes\n",
    "    else:\n",
    "        importance = None\n",
    "        print('Error, put an available name of func for the feature importance. Ex. : feature_importance OR coef.')\n",
    "    \n",
    "    return importance\n",
    "\n",
    "coefs = pd.DataFrame(get_importance(pipeline_best, 'coef')\n",
    "                     , columns = [\"Coefficients\"]\n",
    "                     , index = pipeline_best.feature_names_in_\n",
    "                    )\n",
    "\n",
    "df_barh = coefs.sort_values('Coefficients', ascending = False).head(20)\n",
    "\n",
    "plt.barh(df_barh.index, df_barh['Coefficients'])\n",
    "plt.show();"
   ]
  },
  {
   "cell_type": "markdown",
   "id": "6b68e123",
   "metadata": {},
   "source": [
    "### Importances locales : Lime explainer"
   ]
  },
  {
   "cell_type": "code",
   "execution_count": null,
   "id": "5f2f071f",
   "metadata": {},
   "outputs": [],
   "source": [
    "xtrain_data = preprocessor.transform(xtrain_all)\n",
    "class_names = list(ytrain_all.unique())\n",
    "features_names = list(xtrain_all.columns)\n",
    "cat_features = []\n",
    "i = 0\n",
    "for col in xtrain_all.columns.to_list():\n",
    "    if col in listVarCat:\n",
    "        cat_features.append(i)\n",
    "    i += 1\n",
    "explainer = LimeTabularExplainer(xtrain_data\n",
    "                                  , mode = \"classification\"\n",
    "                                  , class_names = class_names\n",
    "                                  , feature_names = features_names\n",
    "                                  , categorical_features = cat_features\n",
    "                                 )"
   ]
  },
  {
   "cell_type": "code",
   "execution_count": null,
   "id": "a5b6a2f6",
   "metadata": {
    "scrolled": false
   },
   "outputs": [],
   "source": [
    "idx_sample = random.randrange(0, len(xtest))\n",
    "\n",
    "xtest_transform = preprocessor.transform(xtest)\n",
    "xtest_transform_random = xtest_transform[idx_sample]\n",
    "obj_proba = pipeline_best.steps[-1][1].predict_proba\n",
    "n_features = len(xtest_transform_random)\n",
    "exp = explainer.explain_instance(xtest_transform_random\n",
    "                                 , obj_proba\n",
    "                                 , num_features = n_features\n",
    "                                )"
   ]
  },
  {
   "cell_type": "code",
   "execution_count": null,
   "id": "5078bd09",
   "metadata": {
    "scrolled": true
   },
   "outputs": [],
   "source": [
    "exp.show_in_notebook()"
   ]
  },
  {
   "cell_type": "markdown",
   "id": "44fce8ea",
   "metadata": {},
   "source": [
    "# Exportation des données et du modèle"
   ]
  },
  {
   "cell_type": "markdown",
   "id": "9df4bd8c",
   "metadata": {},
   "source": [
    "## Exportation de l'explainer"
   ]
  },
  {
   "cell_type": "code",
   "execution_count": null,
   "id": "bc3f916f",
   "metadata": {},
   "outputs": [],
   "source": [
    "'''\n",
    "# exporter l'objet Lime explainer pour calculer les importances locales dans l'API model\n",
    "pickle_out = open(\"explainer.pkl\",\"wb\")\n",
    "pickle.dump(explainer,pickle_out)\n",
    "pickle_out.close()\n",
    "'''\n",
    "\n",
    "with open('data/explainer', 'wb') as f:\n",
    "    dill.dump(explainer, f)"
   ]
  },
  {
   "cell_type": "markdown",
   "id": "8040d573",
   "metadata": {},
   "source": [
    "## Sérialisation du modèle"
   ]
  },
  {
   "cell_type": "code",
   "execution_count": null,
   "id": "5b5886b8",
   "metadata": {},
   "outputs": [],
   "source": [
    "# entrainement sur tout application_train.csv\n",
    "pipeline_best.fit(X,y)\n",
    "\n",
    "# sérialiser le modèle dans un fichier\n",
    "pickle_out = open(\"data/classifier.pkl\",\"wb\")\n",
    "pickle.dump(pipeline_best,pickle_out)\n",
    "pickle_out.close()"
   ]
  }
 ],
 "metadata": {
  "kernelspec": {
   "display_name": "Python 3 (ipykernel)",
   "language": "python",
   "name": "python3"
  },
  "language_info": {
   "codemirror_mode": {
    "name": "ipython",
    "version": 3
   },
   "file_extension": ".py",
   "mimetype": "text/x-python",
   "name": "python",
   "nbconvert_exporter": "python",
   "pygments_lexer": "ipython3",
   "version": "3.8.12"
  }
 },
 "nbformat": 4,
 "nbformat_minor": 5
}
