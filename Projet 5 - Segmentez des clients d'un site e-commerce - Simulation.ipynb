{
 "cells": [
  {
   "cell_type": "markdown",
   "id": "9e80d74f",
   "metadata": {},
   "source": [
    "# Enoncé\n",
    "## Contexte\n",
    "**Mon rôle** : data scientist prestataire pour Olist\n",
    "\n",
    "**Commanditaire** : Olist (https://olist.com/pt-br/)\n",
    "\n",
    "**Activité de l'entreprise :** entreprise brésilienne qui propose une solution de vente sur les marketplaces en ligne\n",
    "\n",
    "**Projet :** segmentation des clients pour leurs campagnes de communication\n",
    "\n",
    "**Type de Mission :** classification non supervisés\n",
    "\n",
    "## Attendus\n",
    "**But de la mission :** comprendre les différents types d’utilisateurs grâce à leur comportement et à leurs données personnelles\n",
    "\n",
    "**Détails de la mission :** fournir à l’équipe marketing une description actionable de votre segmentation et de sa logique sous-jacente pour une utilisation optimale, ainsi qu’une proposition de contrat de maintenance basée sur une analyse de la stabilité des segments au cours du temps\n",
    "\n",
    "données anonymisée ==> https://www.kaggle.com/olistbr/brazilian-ecommerce (comportant des informations sur l’historique de commandes, les produits achetés, les commentaires de satisfaction, et la localisation des clients depuis janvier 2017)\n",
    "\n",
    "comprendre les différents types d'utilisateurs --> utiliser des méthodes non supervisées pour regrouper des clients de profils similaires --> utilisées par l’équipe Marketing pour mieux communiquer\n",
    "\n",
    "**Problèmes :** Olist n'a pas fourni beaucoup de données --> ressources limitées --> dû fournir l’ensemble des données, alors que seuls 3 % des clients ont réalisé plusieurs commandes --> les données à disposition suffiront pour réaliser un premier clustering\n",
    "\n",
    "**Etapes demandées :**\n",
    "Vous sortez tout juste d’une réunion de brief avec votre équipe. Voici un récapitulatif de votre mission :\n",
    "- Réaliser une courte analyse exploratoire.\n",
    "- Tester différents modèles de classification/segmentation afin de différencier les bons et moins bons clients en termes de commandes et de satisfaction sur l’ensemble des clients\n",
    "- Faire une recommandation de fréquence à laquelle la segmentation doit être mise à jour pour rester pertinente, afin de pouvoir effectuer un devis de contrat de maintenance\n",
    "\n",
    "/!\\ Pour information, le code fourni doit respecter la convention PEP8, pour être utilisable par Olist. /!\\\n",
    "\n",
    "**Script concerné :** \n",
    "- Un notebook de l'analyse exploratoire (non cleané, pour comprendre votre démarche).\n",
    "- Un notebook (ou code commenté au choix) d’essais des différentes approches de modélisation (non cleané, pour comprendre votre démarche).\n",
    "- **Un notebook de simulation pour déterminer la fréquence nécessaire de mise à jour du modèle de segmentation.**"
   ]
  },
  {
   "cell_type": "markdown",
   "id": "220d5d9c",
   "metadata": {},
   "source": [
    "# Librairies, paramétrages et données\n",
    "## Mise à jour des librairies"
   ]
  },
  {
   "cell_type": "code",
   "execution_count": 2,
   "id": "5c115969",
   "metadata": {},
   "outputs": [
    {
     "data": {
      "text/plain": [
       "\"\\nimport re\\nimport pip\\nlistLib = !pip list --outdated --format freeze\\nlistLib = list(listLib)\\nlistLib = [re.sub('(\\\\=)+(.)+$', '', i) for i in listLib]\\npip.main(['install'] + listLib + ['--upgrade'] + ['--user'])\\n!pip list --outdated\\n!pip install autopep8\\n\""
      ]
     },
     "execution_count": 2,
     "metadata": {},
     "output_type": "execute_result"
    }
   ],
   "source": [
    "'''\n",
    "import re\n",
    "import pip\n",
    "listLib = !pip list --outdated --format freeze\n",
    "listLib = list(listLib)\n",
    "listLib = [re.sub('(\\=)+(.)+$', '', i) for i in listLib]\n",
    "pip.main(['install'] + listLib + ['--upgrade'] + ['--user'])\n",
    "!pip list --outdated\n",
    "!pip install autopep8\n",
    "'''"
   ]
  },
  {
   "cell_type": "markdown",
   "id": "8266893b",
   "metadata": {},
   "source": [
    "## Importations des librairies"
   ]
  },
  {
   "cell_type": "code",
   "execution_count": 4,
   "id": "224e1b00",
   "metadata": {},
   "outputs": [],
   "source": [
    "# Gestion de format du code\n",
    "import autopep8\n",
    "\n",
    "# Gestion des données\n",
    "import pandas as pd\n",
    "import numpy as np\n",
    "\n",
    "# Gestion des graphiques\n",
    "import matplotlib.pyplot as plt\n",
    "import seaborn as sns\n",
    "\n",
    "from datetime import datetime, timedelta\n",
    "\n",
    "\n",
    "from sklearn.preprocessing import MinMaxScaler, StandardScaler, RobustScaler, MaxAbsScaler \n",
    "from sklearn.pipeline import make_pipeline\n",
    "from sklearn.cluster import MiniBatchKMeans, DBSCAN\n",
    "from sklearn.metrics.cluster import adjusted_rand_score\n",
    "\n",
    "import os\n",
    "import re"
   ]
  },
  {
   "cell_type": "markdown",
   "id": "e274df83",
   "metadata": {},
   "source": [
    "## Paramétrages"
   ]
  },
  {
   "cell_type": "code",
   "execution_count": 5,
   "id": "89955068",
   "metadata": {},
   "outputs": [],
   "source": [
    "# Format des résultats affichés\n",
    "pd.set_option('display.max_columns', None) # display.max_columns : contrôle le nombre de colonnes à imprimer (int ou None pour imprimer toutes les colonnes)\n",
    "pd.set_option('max_colwidth', None) # Vous pouvez augmenter la largeur en passant un int (ou mettre au max en passant None)\n",
    "pd.set_option(\"display.max_rows\", None) # Pour modifier le nombre de lignes, vous devez modifier l' option max_rows \n",
    "pd.options.display.float_format = '{:.4f}'.format # enlève le format d'affichage : nombre scientifique\n",
    "\n",
    "# Pour afficher les graphiques dans la continuité du code, et non pas dans une fenêtre à part:\n",
    "%matplotlib inline"
   ]
  },
  {
   "cell_type": "markdown",
   "id": "4cca3e9f",
   "metadata": {},
   "source": [
    "## Importations des données"
   ]
  },
  {
   "cell_type": "code",
   "execution_count": 6,
   "id": "1c926a1f",
   "metadata": {},
   "outputs": [],
   "source": [
    "df = pd.read_csv('E:/Formations/6. Diplôme Data Scientist/Projet/Projet-5/olist_maintenance.csv'\n",
    "                 , sep=\",\"\n",
    "                 , decimal = '.'\n",
    "                 , encoding=\"utf-8\")"
   ]
  },
  {
   "cell_type": "code",
   "execution_count": 7,
   "id": "c80ca31f",
   "metadata": {},
   "outputs": [
    {
     "data": {
      "text/html": [
       "<div>\n",
       "<style scoped>\n",
       "    .dataframe tbody tr th:only-of-type {\n",
       "        vertical-align: middle;\n",
       "    }\n",
       "\n",
       "    .dataframe tbody tr th {\n",
       "        vertical-align: top;\n",
       "    }\n",
       "\n",
       "    .dataframe thead th {\n",
       "        text-align: right;\n",
       "    }\n",
       "</style>\n",
       "<table border=\"1\" class=\"dataframe\">\n",
       "  <thead>\n",
       "    <tr style=\"text-align: right;\">\n",
       "      <th></th>\n",
       "      <th>order_id</th>\n",
       "      <th>customer_unique_id</th>\n",
       "      <th>order_purchase_timestamp</th>\n",
       "      <th>payment_value</th>\n",
       "      <th>review_score</th>\n",
       "    </tr>\n",
       "  </thead>\n",
       "  <tbody>\n",
       "    <tr>\n",
       "      <th>0</th>\n",
       "      <td>E481F51CBDC54678B7CC49136F2D6AF7</td>\n",
       "      <td>7C396FD4830FD04220F754E42B4E5BFF</td>\n",
       "      <td>2017-10-02 10:56:33</td>\n",
       "      <td>38.7100</td>\n",
       "      <td>4</td>\n",
       "    </tr>\n",
       "    <tr>\n",
       "      <th>1</th>\n",
       "      <td>53CDB2FC8BC7DCE0B6741E2150273451</td>\n",
       "      <td>AF07308B275D755C9EDB36A90C618231</td>\n",
       "      <td>2018-07-24 20:41:37</td>\n",
       "      <td>141.4600</td>\n",
       "      <td>4</td>\n",
       "    </tr>\n",
       "    <tr>\n",
       "      <th>2</th>\n",
       "      <td>47770EB9100C2D0C44946D9CF07EC65D</td>\n",
       "      <td>3A653A41F6F9FC3D2A113CF8398680E8</td>\n",
       "      <td>2018-08-08 08:38:49</td>\n",
       "      <td>179.1200</td>\n",
       "      <td>5</td>\n",
       "    </tr>\n",
       "    <tr>\n",
       "      <th>3</th>\n",
       "      <td>949D5B44DBF5DE918FE9C16F97B45F8A</td>\n",
       "      <td>7C142CF63193A1473D2E66489A9AE977</td>\n",
       "      <td>2017-11-18 19:28:06</td>\n",
       "      <td>72.2000</td>\n",
       "      <td>5</td>\n",
       "    </tr>\n",
       "    <tr>\n",
       "      <th>4</th>\n",
       "      <td>AD21C59C0840E6CB83A9CEB5573F8159</td>\n",
       "      <td>72632F0F9DD73DFEE390C9B22EB56DD6</td>\n",
       "      <td>2018-02-13 21:18:39</td>\n",
       "      <td>28.6200</td>\n",
       "      <td>5</td>\n",
       "    </tr>\n",
       "  </tbody>\n",
       "</table>\n",
       "</div>"
      ],
      "text/plain": [
       "                           order_id                customer_unique_id  \\\n",
       "0  E481F51CBDC54678B7CC49136F2D6AF7  7C396FD4830FD04220F754E42B4E5BFF   \n",
       "1  53CDB2FC8BC7DCE0B6741E2150273451  AF07308B275D755C9EDB36A90C618231   \n",
       "2  47770EB9100C2D0C44946D9CF07EC65D  3A653A41F6F9FC3D2A113CF8398680E8   \n",
       "3  949D5B44DBF5DE918FE9C16F97B45F8A  7C142CF63193A1473D2E66489A9AE977   \n",
       "4  AD21C59C0840E6CB83A9CEB5573F8159  72632F0F9DD73DFEE390C9B22EB56DD6   \n",
       "\n",
       "  order_purchase_timestamp  payment_value  review_score  \n",
       "0      2017-10-02 10:56:33        38.7100             4  \n",
       "1      2018-07-24 20:41:37       141.4600             4  \n",
       "2      2018-08-08 08:38:49       179.1200             5  \n",
       "3      2017-11-18 19:28:06        72.2000             5  \n",
       "4      2018-02-13 21:18:39        28.6200             5  "
      ]
     },
     "execution_count": 7,
     "metadata": {},
     "output_type": "execute_result"
    }
   ],
   "source": [
    "df.head()"
   ]
  },
  {
   "cell_type": "code",
   "execution_count": 8,
   "id": "8ec3fafd",
   "metadata": {},
   "outputs": [
    {
     "data": {
      "text/plain": [
       "order_id                     object\n",
       "customer_unique_id           object\n",
       "order_purchase_timestamp     object\n",
       "payment_value               float64\n",
       "review_score                  int64\n",
       "dtype: object"
      ]
     },
     "execution_count": 8,
     "metadata": {},
     "output_type": "execute_result"
    }
   ],
   "source": [
    "df.dtypes"
   ]
  },
  {
   "cell_type": "code",
   "execution_count": 9,
   "id": "28a18654",
   "metadata": {},
   "outputs": [],
   "source": [
    "df['order_purchase_timestamp'] = pd.to_datetime(df['order_purchase_timestamp'], format='%Y-%m-%d %H:%M:%S')"
   ]
  },
  {
   "cell_type": "code",
   "execution_count": 10,
   "id": "f48a1521",
   "metadata": {},
   "outputs": [
    {
     "data": {
      "text/plain": [
       "order_id                            object\n",
       "customer_unique_id                  object\n",
       "order_purchase_timestamp    datetime64[ns]\n",
       "payment_value                      float64\n",
       "review_score                         int64\n",
       "dtype: object"
      ]
     },
     "execution_count": 10,
     "metadata": {},
     "output_type": "execute_result"
    }
   ],
   "source": [
    "df.dtypes"
   ]
  },
  {
   "cell_type": "markdown",
   "id": "3d22e158",
   "metadata": {},
   "source": [
    "# Création des fonctions"
   ]
  },
  {
   "cell_type": "code",
   "execution_count": 11,
   "id": "bb75856e",
   "metadata": {},
   "outputs": [],
   "source": [
    "def create_var(df, choice):\n",
    "    # transformer le df en fonction des variables souhaitées\n",
    "    if 'RFM' in choice:\n",
    "        df_RFM = df.groupby(['customer_unique_id'], as_index = False)\n",
    "        df_RFM = df_RFM.agg(Récence = ('order_purchase_timestamp', max)\n",
    "                            , Fréquence = ('order_id', 'count')\n",
    "                            , Montant = ('payment_value', 'mean'))\n",
    "        df_RFM['Récence'] = (df_RFM['Récence'].max() - df_RFM['Récence']).dt.days\n",
    "    if 'review' in choice:\n",
    "        df_review = df_temp.groupby('customer_unique_id', as_index = False)['review_score'].mean()\n",
    "    \n",
    "    # créer le df final\n",
    "    if len(choice) == 2:\n",
    "        df_final = pd.merge(df_RFM\n",
    "                            , df_review\n",
    "                            , on = 'customer_unique_id'\n",
    "                            , how = 'inner')\n",
    "    elif len(choice) == 1:\n",
    "        if 'review' in choice:\n",
    "            df_final = df_review.copy()\n",
    "        elif 'RFM' in choice:\n",
    "            df_final = df_RFM.copy()\n",
    "    \n",
    "    return df_final"
   ]
  },
  {
   "cell_type": "code",
   "execution_count": 12,
   "id": "76258024",
   "metadata": {},
   "outputs": [],
   "source": [
    "def find_update_date(algo, n_clusters, prep, nb_days_test, df, choice):\n",
    "    # Df de test\n",
    "    date_min_base = df['order_purchase_timestamp'].min()\n",
    "    date_max_base = date_min_base + timedelta(days = 365)\n",
    "    df_base = df[df['order_purchase_timestamp'] < date_max_base].copy()\n",
    "    df_base = create_var(df_base, choice)\n",
    "    #print('Base : de',date_min_base,'à',date_max_base)\n",
    "    \n",
    "    # lancement du modèle\n",
    "    preprocessor = globals()[prep]()\n",
    "    dict_param = {'n_clusters':n_clusters,'random_state':99,'init':'k-means++'}\n",
    "    algorithm = globals()[algo](**dict_param)\n",
    "    model = make_pipeline(preprocessor, algorithm)\n",
    "    model.fit_predict(df_base.iloc[:,1:])\n",
    "    # ajout des clusters au df\n",
    "    df_base['labels'] = model.steps[-1][1].labels_\n",
    "    df_base['labels'] = df_base['labels'].astype(str)\n",
    "    \n",
    "    score_ari = []\n",
    "    periode = []\n",
    "    \n",
    "    # Df itératif\n",
    "    date_max_test = date_max_base\n",
    "    find = False\n",
    "    nb_periode = 1\n",
    "    i = 1\n",
    "    while date_max_test < df['order_purchase_timestamp'].max():\n",
    "        date_min_test = date_min_base\n",
    "        date_max_test = date_max_test + timedelta(days = nb_days_test)\n",
    "        df_test = df[(df['order_purchase_timestamp'] >= date_min_test)\n",
    "                     &(df['order_purchase_timestamp'] < date_max_test)].copy()\n",
    "        df_test = create_var(df_test, choice)\n",
    "        #print('Test : de',date_min_test,'à',date_max_test)\n",
    "    \n",
    "        # lancement du modèle\n",
    "        algorithm = globals()[algo](**dict_param)\n",
    "        model = make_pipeline(preprocessor, algorithm)\n",
    "        model.fit_predict(df_test.iloc[:,1:])\n",
    "        # ajout des clusters au df\n",
    "        df_test['labels'] = model.steps[-1][1].labels_\n",
    "        df_test['labels'] = df_test['labels'].astype(str)\n",
    "        \n",
    "        # test de similarité\n",
    "        #print(len(df_base['customer_unique_id'].to_list()))\n",
    "        #print(len(df_test['customer_unique_id'].to_list()))\n",
    "        df_temp_test = df_test[df_test['customer_unique_id'].isin(df_base['customer_unique_id'].to_list())]\n",
    "        df_temp_base = df_base[df_base['customer_unique_id'].isin(df_test['customer_unique_id'].to_list())]\n",
    "        ari = adjusted_rand_score(df_temp_base['labels'], df_temp_test['labels'])\n",
    "        \n",
    "        # action\n",
    "        score_ari.append(ari)\n",
    "        periode.append(i*nb_days_test)\n",
    "        i += 1\n",
    "        if find == False:\n",
    "            if ari >= 0.8:\n",
    "                nb_periode += 1\n",
    "            else:\n",
    "                find = True\n",
    "    \n",
    "    plt.figure(figsize = [20,10])\n",
    "    plt.plot(periode, score_ari, 'bx-') \n",
    "    plt.axhline(y = 0.8, color = 'r', linestyle = '-.')\n",
    "    plt.xlabel('Nombre de jours') \n",
    "    plt.xticks(periode)\n",
    "    plt.ylabel('Score ARI') \n",
    "    plt.show();\n",
    "    \n",
    "    return nb_periode"
   ]
  },
  {
   "cell_type": "markdown",
   "id": "69535c95",
   "metadata": {},
   "source": [
    "# Contrat de maintenance"
   ]
  },
  {
   "cell_type": "code",
   "execution_count": 19,
   "id": "e6b09829",
   "metadata": {
    "scrolled": false
   },
   "outputs": [
    {
     "data": {
      "image/png": "[encoded data removed]",
      "text/plain": [
       "<Figure size 1440x720 with 1 Axes>"
      ]
     },
     "metadata": {
      "needs_background": "light"
     },
     "output_type": "display_data"
    },
    {
     "name": "stdout",
     "output_type": "stream",
     "text": [
      "Mise à jour tous les 28 jours\n"
     ]
    }
   ],
   "source": [
    "algo = 'MiniBatchKMeans'\n",
    "n_clusters = 4\n",
    "prep = 'StandardScaler'\n",
    "nb_days_test = 14\n",
    "choice = ['RFM']\n",
    "print('Mise à jour tous les',find_update_date(algo, n_clusters, prep, nb_days_test, df, choice)*nb_days_test,'jours')"
   ]
  },
  {
   "cell_type": "markdown",
   "id": "800487db",
   "metadata": {},
   "source": [
    "# Evaluation\n",
    "## Compétences évaluées et Commentaires\n",
    "\n",
    "- Transformer les variables pertinentes d'un modèle d'apprentissage non supervisé (*Validé*)\n",
    "\n",
    "Commentaires :\n",
    "\n",
    "    - Les variables pertinentes ont été transformées pour permettre leur exploitation.\n",
    "    - Une ou plusieurs variables pertinentes permettant d'améliorer la solution proposée ont été créées.\n",
    "\n",
    "- Mettre en place le modèle d'apprentissage non supervisé adapté au problème métier (*Validé*)\n",
    "\n",
    "Commentaires : Le nombre de segments et la répartition sont adaptés à la problématique métier.\n",
    "\n",
    "- Adapter les hyperparamètres d'un algorithme non supervisé afin de l'améliorer (*Validé*)\n",
    "\n",
    "Commentaires :\n",
    "\n",
    "    - Les étapes d'évaluation sont automatisées pour tester facilement plusieurs combinaisons de paramètres.\n",
    "    - Les valeurs de paramètres testés sont pertinemment choisies.\n",
    "\n",
    "- Évaluer les performances d’un modèle d'apprentissage non supervisé (*Validé*)\n",
    "\n",
    "Commentaires :\n",
    "\n",
    "    - La forme des clusters est évaluée.\n",
    "    - La stabilité des clusters est évaluée.\n",
    "\n",
    "## Livrable et Soutenance\n",
    "### Livrable\n",
    "\n",
    "Points forts :\n",
    "- Conclusion orientée métier\n",
    "- Bonne contextualisation des objectifs du projet\n",
    "\n",
    "Axes d'amélioration :\n",
    "- L'étudiante aurait pu tester d'autres modèles\n",
    "\n",
    "### Soutenance\n",
    "\n",
    "Remarques :\n",
    "- Attention à bien respecter le temps imparti \n",
    "- Présentation claire et bonne compréhension des enjeux du projet"
   ]
  }
 ],
 "metadata": {
  "kernelspec": {
   "display_name": "Python 3 (ipykernel)",
   "language": "python",
   "name": "python3"
  },
  "language_info": {
   "codemirror_mode": {
    "name": "ipython",
    "version": 3
   },
   "file_extension": ".py",
   "mimetype": "text/x-python",
   "name": "python",
   "nbconvert_exporter": "python",
   "pygments_lexer": "ipython3",
   "version": "3.8.12"
  }
 },
 "nbformat": 4,
 "nbformat_minor": 5
}
